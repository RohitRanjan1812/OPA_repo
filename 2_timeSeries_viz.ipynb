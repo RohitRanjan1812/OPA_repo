{
 "cells": [
  {
   "cell_type": "code",
   "execution_count": 1,
   "id": "34c17937",
   "metadata": {},
   "outputs": [],
   "source": [
    "import pandas as pd\n",
    "import numpy as np\n",
    "#import yfinance as yf\n",
    "\n",
    "%matplotlib inline\n",
    "import matplotlib.pyplot as plt\n",
    "import seaborn as sns\n",
    "\n",
    "sns.set()\n",
    "#pd.__version__"
   ]
  },
  {
   "cell_type": "code",
   "execution_count": null,
   "id": "4edc2556",
   "metadata": {},
   "outputs": [],
   "source": [
    "df_header = pd.read_pickle(r'c:\\Users\\Zoli\\Downloads\\python\\academy\\df_allInfo_clean.pkl')\n",
    "df_ts=pd.read_pickle(r'c:\\Users\\Zoli\\Downloads\\python\\academy\\50yr_timeSeries_data.pkl')"
   ]
  },
  {
   "cell_type": "code",
   "execution_count": null,
   "id": "a19e9ccc",
   "metadata": {},
   "outputs": [],
   "source": [
    "df_ts.head()"
   ]
  },
  {
   "cell_type": "code",
   "execution_count": null,
   "id": "391c1ace",
   "metadata": {},
   "outputs": [],
   "source": [
    "df = pd.DataFrame(index=df_ts.index) # store log returns\n",
    "\n",
    "for i in df_ts.columns:\n",
    "    if i[1] == 'Open':\n",
    "        df[i[0]]=(np.log(df_ts[i[0]]['Close']/df_ts[i[0]]['Open'])/1);\n",
    "df=df.copy()\n",
    "df.loc[:,'month']=df.index.month\n",
    "df.loc[:,'year']=df.index.year\n",
    "df.head()\n",
    "    \n",
    "    \n",
    "    \n",
    "    "
   ]
  },
  {
   "cell_type": "code",
   "execution_count": null,
   "id": "bb8d186c",
   "metadata": {},
   "outputs": [],
   "source": [
    "df_close = pd.DataFrame(index=df_ts.index) # store clsoing data only\n",
    "\n",
    "for i in df_ts.columns:\n",
    "    if i[1] == 'Close':\n",
    "        df_close[i[0]]=df_ts[i[0]]['Close'];\n",
    "df_close=df_close.copy()\n",
    "df_close.loc[:,'month']=df_close.index.month\n",
    "df_close.loc[:,'year']=df_close.index.year\n",
    "df_close.head()\n",
    "    \n",
    "    "
   ]
  },
  {
   "cell_type": "code",
   "execution_count": null,
   "id": "bb80dd02",
   "metadata": {},
   "outputs": [],
   "source": [
    "vars_to_chart=df.columns[25:28] # list of stocks OR\n",
    "vars_to_chart=['MRNA','TSLA','BLK']\n",
    "\n",
    "year_to_chart=2022\n",
    "month_to_chart=2"
   ]
  },
  {
   "cell_type": "code",
   "execution_count": null,
   "id": "3ab9a965",
   "metadata": {},
   "outputs": [],
   "source": [
    "sns.set(font_scale = 1)\n",
    "lr_chart=sns.pairplot(data=df[df.year==year_to_chart],\n",
    "             vars=vars_to_chart,\n",
    "             diag_kind='kde',\n",
    "             hue='month',\n",
    "             height=4,aspect=1);\n",
    "\n",
    "lr_chart.fig.suptitle('Log returns',y=1.01); "
   ]
  },
  {
   "cell_type": "code",
   "execution_count": null,
   "id": "a27ca448",
   "metadata": {},
   "outputs": [],
   "source": [
    "sns.set(font_scale = 1)\n",
    "\n",
    "plt.figure(figsize= (8,8));\n",
    "plt.plot(df[vars_to_chart][df.year==year_to_chart],\n",
    "         label=vars_to_chart);\n",
    "plt.xlabel(\"time\")\n",
    "plt.ylabel('log-returns')\n",
    "plt.legend();\n",
    "\n"
   ]
  },
  {
   "cell_type": "code",
   "execution_count": null,
   "id": "9c53e8c5",
   "metadata": {},
   "outputs": [],
   "source": [
    "# https://medium.com/codex/how-to-calculate-bollinger-bands-of-a-stock-with-python-f9f7d1184fc3\n",
    "def get_sma(prices, rate):\n",
    "    return prices.rolling(rate).mean()\n",
    "\n",
    "def get_bollinger_bands(prices, rate=20):\n",
    "    sma = get_sma(prices, rate)\n",
    "    std = prices.rolling(rate).std()\n",
    "    bollinger_up = sma + std * 2 # Calculate top band\n",
    "    bollinger_down = sma - std * 2 # Calculate bottom band\n",
    "    return bollinger_up, bollinger_down"
   ]
  },
  {
   "cell_type": "code",
   "execution_count": null,
   "id": "903d2f57",
   "metadata": {},
   "outputs": [],
   "source": [
    "one_var_to_chart=df.columns[25:26] # one stock OR\n",
    "one_var_to_chart=['MRNA'] \n",
    "\n",
    "sma = get_sma(df_close[one_var_to_chart][df_close.year==year_to_chart], 20) # Get 20 day SMA\n",
    "bollinger_up, bollinger_down = get_bollinger_bands(df_close[one_var_to_chart][df_close.year==year_to_chart])\n",
    "\n",
    "sns.set(font_scale = 1)\n",
    "plt.figure(figsize= (8,8));\n",
    "\n",
    "plt.xlabel('Days')\n",
    "plt.ylabel('Closing Prices ' + one_var_to_chart[0])\n",
    "\n",
    "plt.plot(df_close[one_var_to_chart][df_close.year==year_to_chart], label='Closing Prices')\n",
    "plt.plot(bollinger_up, label='Bollinger Up', c='g')\n",
    "plt.plot(bollinger_down, label='Bollinger Down', c='r')\n",
    "\n",
    "plt.legend()\n",
    "plt.show()"
   ]
  },
  {
   "cell_type": "code",
   "execution_count": null,
   "id": "b81602ee",
   "metadata": {},
   "outputs": [],
   "source": []
  }
 ],
 "metadata": {
  "kernelspec": {
   "display_name": ".opa_venv",
   "language": "python",
   "name": "python3"
  },
  "language_info": {
   "codemirror_mode": {
    "name": "ipython",
    "version": 3
   },
   "file_extension": ".py",
   "mimetype": "text/x-python",
   "name": "python",
   "nbconvert_exporter": "python",
   "pygments_lexer": "ipython3",
   "version": "3.11.0"
  },
  "vscode": {
   "interpreter": {
    "hash": "1a9e40b8b4ac1496d3cd47ca77c2445f878e9ec535527af5083f656080d0d66a"
   }
  }
 },
 "nbformat": 4,
 "nbformat_minor": 5
}
